{
  "nbformat": 4,
  "nbformat_minor": 0,
  "metadata": {
    "colab": {
      "provenance": []
    },
    "kernelspec": {
      "name": "python3",
      "display_name": "Python 3"
    },
    "language_info": {
      "name": "python"
    }
  },
  "cells": [
    {
      "cell_type": "code",
      "execution_count": null,
      "metadata": {
        "id": "gMQGEV_MpV9V"
      },
      "outputs": [],
      "source": []
    },
    {
      "cell_type": "markdown",
      "source": [
        "# Introducción a Python\n",
        "Python es un programa que ayuda a programar para poder hacer programas, es una mezcla de c++, html y demás programas. Python es un lenguaje que está orietada a objetos, con c. Python es un interpretador de c.\n",
        "## ¿Qué veremos hoy?\n",
        "1.   Objetos.\n",
        "2.   Variables.\n",
        "3.   Ejemplo.\n",
        "**Nota: En este procesador de texto se puede escribir en html y en latex.**\n",
        "Por ejemplo, vamos a escribir a la ecuación más hermosa de todas.\n",
        "$$e^{i\\pi} +1=0 $$\n",
        "Otro ejemplo:\n",
        "\\begin{equation}\n",
        "\\begin{matrix}\n",
        "1 & 2 & 3 \\\\\n",
        "5 & 8 & 13 \\\\\n",
        "21 & 34 & 55\n",
        "\\end{matrix}\n",
        "\\end{equation}\n",
        "### Algunos objetos en python: ###\n",
        "\n",
        "1. int y float (double)\n",
        "2. str (\"string\")\n",
        "3. Conjuntos y listas\n",
        "-------\n",
        "**La función `print` y la función `type`**"
      ],
      "metadata": {
        "id": "me-tFT65qQcU"
      }
    },
    {
      "cell_type": "code",
      "source": [
        "# Documentar un código, Vamos a imprimir mi nombre\n",
        "print (\"Pedro Felipe\")\n",
        "#Salen comillas en el texto, si se pone primero print, si se ve \"Kevin Cruz\" pero si se pone antes del print no sale\n",
        "\"Kevin Cruz\""
      ],
      "metadata": {
        "id": "QqSphzEm-HXw"
      },
      "execution_count": null,
      "outputs": []
    },
    {
      "cell_type": "markdown",
      "source": [
        "#### Operaciones básicas en int o float\n",
        "* $ +,-$ Suma y resta\n",
        "* $ *, /, ** $ (Multiplicación, división y elevar)\n",
        "* $\\% $ (operación modular)\n",
        "*$//$(División al piso)\n"
      ],
      "metadata": {
        "id": "PzOVs9i1AWvh"
      }
    },
    {
      "cell_type": "markdown",
      "source": [
        "##Aplicación de variables##\n",
        "(Nombre de la variable y un igual)\n",
        "nombre=objeto"
      ],
      "metadata": {
        "id": "gh_RJUHzFM4b"
      }
    },
    {
      "cell_type": "code",
      "source": [
        "#vamos a crear dos variables\n",
        "x=8\n",
        "y=2"
      ],
      "metadata": {
        "id": "3iHFg1PguAOZ"
      },
      "execution_count": 12,
      "outputs": []
    },
    {
      "cell_type": "code",
      "source": [
        "#Operaciones\n",
        "print (f\" La suma entre {x} y {y} es {x+y}\")\n",
        "print (f\" La resta entre {x} y {y} es {x-y}\")\n",
        "print (f\" La multiplicación entre {x} y {y} es {x*y}\")\n",
        "print (f\" La división entre {x} y {y} es {x/y}\")\n",
        "print (f\" La elevación entre {x} y {y} es {x**y}\")\n",
        "print (f\" La división al piso entre {x} y {y} es {x//y}\")\n",
        "print (f\" El residuo entre {x} y {y} es {x%y}\")"
      ],
      "metadata": {
        "colab": {
          "base_uri": "https://localhost:8080/"
        },
        "id": "OVaHNeJ6Gz3m",
        "outputId": "bb70143e-e1b6-4fa8-fad0-819ff043a77f"
      },
      "execution_count": 13,
      "outputs": [
        {
          "output_type": "stream",
          "name": "stdout",
          "text": [
            " La suma entre 8 y 2 es 10\n",
            " La resta entre 8 y 2 es 6\n",
            " La multiplicación entre 8 y 2 es 16\n",
            " La división entre 8 y 2 es 4.0\n",
            " La elevación entre 8 y 2 es 64\n",
            " La división al piso entre 8 y 2 es 4\n",
            " El residuo entre 8 y 2 es 0\n"
          ]
        }
      ]
    },
    {
      "cell_type": "code",
      "source": [
        "#La función type nos dice el tipo de objeto\n",
        "type(x/y), type(x+y), type(\"erick\")"
      ],
      "metadata": {
        "colab": {
          "base_uri": "https://localhost:8080/"
        },
        "id": "wv9WJJu_IxK_",
        "outputId": "84c5174b-3daa-4fb0-d7d4-1b4377e357ba"
      },
      "execution_count": 19,
      "outputs": [
        {
          "output_type": "execute_result",
          "data": {
            "text/plain": [
              "(float, int, str)"
            ]
          },
          "metadata": {},
          "execution_count": 19
        }
      ]
    }
  ]
}