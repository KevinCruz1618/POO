{
  "nbformat": 4,
  "nbformat_minor": 0,
  "metadata": {
    "colab": {
      "provenance": []
    },
    "kernelspec": {
      "name": "python3",
      "display_name": "Python 3"
    },
    "language_info": {
      "name": "python"
    }
  },
  "cells": [
    {
      "cell_type": "markdown",
      "source": [
        "+JHS+ Fr.e $\\swarrow$\n",
        "#Arreglos y clases\n",
        "## Matrices:\n",
        " Arreglos de datos en un espacio bidimensional de *m* x *n*.\n",
        " \\begin{equation}\n",
        "\\begin{matrix}\n",
        "1 & 2 & 3 & x^2\\\\\n",
        "5 & 8 & 13 & y^n\\\\\n",
        "21 & 34 & 55 & z^5\\\\\n",
        "2&4&8&6\n",
        "\\end{matrix}\n",
        "\\end{equation}"
      ],
      "metadata": {
        "id": "-uvlMpk8vUHF"
      }
    },
    {
      "cell_type": "code",
      "source": [],
      "metadata": {
        "id": "SoTS9KUz3m0Y"
      },
      "execution_count": null,
      "outputs": []
    },
    {
      "cell_type": "code",
      "source": [
        "#Una lista que contiene otras listas.\n",
        "A=[[1,2,3],[4,5,6],[7,8,9]]\n",
        "print (A)\n",
        "type(A)"
      ],
      "metadata": {
        "colab": {
          "base_uri": "https://localhost:8080/"
        },
        "id": "dm2bG6FExZJK",
        "outputId": "4ebf3cf1-851f-4319-c8a0-eae22094e63b"
      },
      "execution_count": 3,
      "outputs": [
        {
          "output_type": "stream",
          "name": "stdout",
          "text": [
            "[[1, 2, 3], [4, 5, 6], [7, 8, 9]]\n"
          ]
        },
        {
          "output_type": "execute_result",
          "data": {
            "text/plain": [
              "list"
            ]
          },
          "metadata": {},
          "execution_count": 3
        }
      ]
    },
    {
      "cell_type": "code",
      "execution_count": 8,
      "metadata": {
        "colab": {
          "base_uri": "https://localhost:8080/"
        },
        "id": "VNFixWuBu8gs",
        "outputId": "aba9261d-b704-454b-a48c-9a8df139f4a2"
      },
      "outputs": [
        {
          "output_type": "execute_result",
          "data": {
            "text/plain": [
              "[[1, 2, 3], [4, 5, 6], [7, 8, 9], [21, 34, 40], [71, 45, 16], [13, 20, 79]]"
            ]
          },
          "metadata": {},
          "execution_count": 8
        }
      ],
      "source": [
        "#Otra lista de listas\n",
        "B=[[21,34,40],[71,45,16],[13,20,79]]\n",
        "A+B\n",
        "#Concatenar las listas (las está pegando)"
      ]
    },
    {
      "cell_type": "code",
      "source": [
        "2*A #Duplica la lista."
      ],
      "metadata": {
        "colab": {
          "base_uri": "https://localhost:8080/"
        },
        "id": "T0j3LzyTzfIV",
        "outputId": "e6eeeb7b-6c65-4d38-e737-9fe5e1917635"
      },
      "execution_count": 7,
      "outputs": [
        {
          "output_type": "execute_result",
          "data": {
            "text/plain": [
              "[[1, 2, 3], [4, 5, 6], [7, 8, 9], [1, 2, 3], [4, 5, 6], [7, 8, 9]]"
            ]
          },
          "metadata": {},
          "execution_count": 7
        }
      ]
    },
    {
      "cell_type": "code",
      "source": [
        "# A[0,0] Forma incorrecta de ingresar a la lista X\n",
        "A[1][2] #Forma correcta de ingresar a la lista\n"
      ],
      "metadata": {
        "colab": {
          "base_uri": "https://localhost:8080/"
        },
        "id": "VxaShWh0z-In",
        "outputId": "2c890e65-780a-45c1-eb0d-8ede65eebf56"
      },
      "execution_count": 14,
      "outputs": [
        {
          "output_type": "execute_result",
          "data": {
            "text/plain": [
              "6"
            ]
          },
          "metadata": {},
          "execution_count": 14
        }
      ]
    },
    {
      "cell_type": "markdown",
      "source": [
        "##Vectores y listas"
      ],
      "metadata": {
        "id": "tCQDEMm_1DbW"
      }
    },
    {
      "cell_type": "code",
      "source": [
        "L=A[0]\n",
        "M=B[0]\n",
        "print (L)\n",
        "L+M"
      ],
      "metadata": {
        "colab": {
          "base_uri": "https://localhost:8080/"
        },
        "id": "QykGlGVZ1ORh",
        "outputId": "f7dc807d-a801-4768-8b50-b7da4fd1313a"
      },
      "execution_count": 19,
      "outputs": [
        {
          "output_type": "stream",
          "name": "stdout",
          "text": [
            "[1, 2, 3]\n"
          ]
        },
        {
          "output_type": "execute_result",
          "data": {
            "text/plain": [
              "[1, 2, 3, 21, 34, 40]"
            ]
          },
          "metadata": {},
          "execution_count": 19
        }
      ]
    },
    {
      "cell_type": "code",
      "source": [
        "a=L[0]\n",
        "a\n",
        "b=M[0]\n",
        "#Una vez seleccionada el único datod de la lista, entonces y solo entonces se puede sumar.\n",
        "a+b"
      ],
      "metadata": {
        "colab": {
          "base_uri": "https://localhost:8080/"
        },
        "id": "aoLOHaaD13v6",
        "outputId": "280ddc30-2db7-404d-fdd9-a6e4025374c7"
      },
      "execution_count": 22,
      "outputs": [
        {
          "output_type": "execute_result",
          "data": {
            "text/plain": [
              "22"
            ]
          },
          "metadata": {},
          "execution_count": 22
        }
      ]
    },
    {
      "cell_type": "code",
      "source": [
        "#Boleano\n",
        "a==1"
      ],
      "metadata": {
        "colab": {
          "base_uri": "https://localhost:8080/"
        },
        "id": "vGpHnQst2b17",
        "outputId": "0540fad8-2b88-458c-86f4-e9f4a759c4d3"
      },
      "execution_count": 23,
      "outputs": [
        {
          "output_type": "execute_result",
          "data": {
            "text/plain": [
              "True"
            ]
          },
          "metadata": {},
          "execution_count": 23
        }
      ]
    },
    {
      "cell_type": "markdown",
      "source": [
        "###Suma de \"Vectores\"\n"
      ],
      "metadata": {
        "id": "PPvzPoZ935T_"
      }
    },
    {
      "cell_type": "code",
      "source": [
        "len(L)==len(M)\n",
        "suma=[L[0]+M[0],L[1]+M[1],L[2]+M[2]]\n",
        "suma\n",
        "#Suma"
      ],
      "metadata": {
        "colab": {
          "base_uri": "https://localhost:8080/"
        },
        "id": "LU0npzPX4JTA",
        "outputId": "3499c30a-d360-4c93-f815-cb9eb7fe85b0"
      },
      "execution_count": 27,
      "outputs": [
        {
          "output_type": "execute_result",
          "data": {
            "text/plain": [
              "[22, 36, 43]"
            ]
          },
          "metadata": {},
          "execution_count": 27
        }
      ]
    },
    {
      "cell_type": "code",
      "source": [
        "suma=[L[i]+M[i] for i in range(3)]\n",
        "print (f\"suma:{suma}\")"
      ],
      "metadata": {
        "colab": {
          "base_uri": "https://localhost:8080/"
        },
        "id": "phd2xCaS5V0d",
        "outputId": "0f06f42d-b151-42dd-9f2f-95d8705b2753"
      },
      "execution_count": 34,
      "outputs": [
        {
          "output_type": "stream",
          "name": "stdout",
          "text": [
            "suma:[22, 36, 43]\n"
          ]
        }
      ]
    },
    {
      "cell_type": "markdown",
      "source": [
        "----------\n"
      ],
      "metadata": {
        "id": "FCuF4Q6OEFD5"
      }
    },
    {
      "cell_type": "markdown",
      "source": [
        "#### Funciones globales\n",
        "la función para hacer funciones es `def` que se cierra con un debug (`print` o `return`)"
      ],
      "metadata": {
        "id": "sct4onOfEGy-"
      }
    },
    {
      "cell_type": "code",
      "source": [
        "def Hola():\n",
        "  print(\"Hola, calcula pi\")"
      ],
      "metadata": {
        "id": "uDeb_bUiEwQ4"
      },
      "execution_count": 36,
      "outputs": []
    },
    {
      "cell_type": "code",
      "source": [
        "Hola()"
      ],
      "metadata": {
        "colab": {
          "base_uri": "https://localhost:8080/"
        },
        "id": "HIW4duDcFGnP",
        "outputId": "dfaf41b4-c8d0-4a58-8e67-944f572e6067"
      },
      "execution_count": 37,
      "outputs": [
        {
          "output_type": "stream",
          "name": "stdout",
          "text": [
            "Hola, calcula pi\n"
          ]
        }
      ]
    },
    {
      "cell_type": "code",
      "source": [
        "def Adios(s,n):\n",
        "  print(f\"Adios es un gusto {s} y tengo {n} años\")"
      ],
      "metadata": {
        "id": "XQbRJRm9GB4-"
      },
      "execution_count": 39,
      "outputs": []
    },
    {
      "cell_type": "code",
      "source": [
        "Adios(\"Xavier\", 26)\n",
        "#Reucerda poner \" \" para todo string y poner siempre la f para invocar la función"
      ],
      "metadata": {
        "colab": {
          "base_uri": "https://localhost:8080/"
        },
        "id": "ExQRhTGmGtTL",
        "outputId": "f16fce7a-d1e4-441c-a361-a76ff7ead50e"
      },
      "execution_count": 42,
      "outputs": [
        {
          "output_type": "stream",
          "name": "stdout",
          "text": [
            "Adios es un gusto Xavier y tengo 26 años\n"
          ]
        }
      ]
    },
    {
      "cell_type": "code",
      "source": [
        "I=[i for i in range(10)]\n",
        "def par():\n",
        "  for x in range(len(I)):\n",
        "    if x%2==0:\n",
        "       print(f\"{x} es par\")\n",
        "    else:\n",
        "       print(f\"{x} es impar\")"
      ],
      "metadata": {
        "id": "pMWg_HiKHwsB"
      },
      "execution_count": 51,
      "outputs": []
    },
    {
      "cell_type": "code",
      "source": [
        "par()"
      ],
      "metadata": {
        "colab": {
          "base_uri": "https://localhost:8080/"
        },
        "id": "76glAGn9JoiN",
        "outputId": "018a0183-941f-41bd-d5b5-4f09cfe34a35"
      },
      "execution_count": 52,
      "outputs": [
        {
          "output_type": "stream",
          "name": "stdout",
          "text": [
            "0 es par\n",
            "1 es impar\n",
            "2 es par\n",
            "3 es impar\n",
            "4 es par\n",
            "5 es impar\n",
            "6 es par\n",
            "7 es impar\n",
            "8 es par\n",
            "9 es impar\n"
          ]
        }
      ]
    },
    {
      "cell_type": "markdown",
      "source": [
        "----\n"
      ],
      "metadata": {
        "id": "LTX49F0tLM-I"
      }
    },
    {
      "cell_type": "markdown",
      "source": [
        "#### Vector a travez de funciones"
      ],
      "metadata": {
        "id": "EUhsYrPwLQVK"
      }
    },
    {
      "cell_type": "code",
      "source": [
        "def suma_vectorial(L,M):\n",
        "  x=[L[i]+M[i]for i in range(len(L))]\n",
        "  #El return es para que regrese la varible\n",
        "  return x"
      ],
      "metadata": {
        "id": "70UAoi70LPQ_"
      },
      "execution_count": 56,
      "outputs": []
    },
    {
      "cell_type": "code",
      "source": [
        "L=[1,2,3]\n",
        "M=[21,34,40]\n",
        "\n",
        "suma_vectorial(L,M)"
      ],
      "metadata": {
        "colab": {
          "base_uri": "https://localhost:8080/"
        },
        "id": "p8zCuZgaL3OM",
        "outputId": "1ef4a8f1-22e9-421c-e791-18e596473828"
      },
      "execution_count": 60,
      "outputs": [
        {
          "output_type": "execute_result",
          "data": {
            "text/plain": [
              "[22, 36, 43]"
            ]
          },
          "metadata": {},
          "execution_count": 60
        }
      ]
    },
    {
      "cell_type": "markdown",
      "source": [
        "###Módulos o librerías\n",
        "$ \\phi $"
      ],
      "metadata": {
        "id": "kLWGvaVKMqTn"
      }
    },
    {
      "cell_type": "code",
      "source": [
        "import math\n",
        "# el *  son todas las funciones\n",
        "from math import *"
      ],
      "metadata": {
        "id": "N0xDAfqoNwL-"
      },
      "execution_count": 61,
      "outputs": []
    },
    {
      "cell_type": "code",
      "source": [
        "sqrt(225)"
      ],
      "metadata": {
        "colab": {
          "base_uri": "https://localhost:8080/"
        },
        "id": "FbcbzcNFOHt9",
        "outputId": "27b87ca6-ab43-4e5e-bc51-cf3c7a352e53"
      },
      "execution_count": 66,
      "outputs": [
        {
          "output_type": "execute_result",
          "data": {
            "text/plain": [
              "15.0"
            ]
          },
          "metadata": {},
          "execution_count": 66
        }
      ]
    },
    {
      "cell_type": "code",
      "source": [
        "e"
      ],
      "metadata": {
        "colab": {
          "base_uri": "https://localhost:8080/"
        },
        "id": "7A1esjOdORkq",
        "outputId": "cf7f2eb7-c0fb-4278-a780-ca54c688741b"
      },
      "execution_count": 65,
      "outputs": [
        {
          "output_type": "execute_result",
          "data": {
            "text/plain": [
              "2.718281828459045"
            ]
          },
          "metadata": {},
          "execution_count": 65
        }
      ]
    },
    {
      "cell_type": "markdown",
      "source": [
        "## *El módulo NumPy*\n",
        "* la función `array`."
      ],
      "metadata": {
        "id": "8AiTZUwiOoA1"
      }
    },
    {
      "cell_type": "code",
      "source": [
        "#array lista en vector\n",
        "import numpy as np\n",
        "L_vector= np.array(L)\n",
        "M_vector=np.array(M)\n",
        "L_vector+M_vector"
      ],
      "metadata": {
        "colab": {
          "base_uri": "https://localhost:8080/"
        },
        "id": "vSSefeyXOihg",
        "outputId": "18824261-b133-4844-fa8b-fe835c6ea2a5"
      },
      "execution_count": 68,
      "outputs": [
        {
          "output_type": "execute_result",
          "data": {
            "text/plain": [
              "array([22, 36, 43])"
            ]
          },
          "metadata": {},
          "execution_count": 68
        }
      ]
    },
    {
      "cell_type": "code",
      "source": [
        "C=[9,2,2,2,3,3,2,17,2]\n",
        "A= [8,1,1,1,2,2,1,16,1]\n",
        "len(A)==len(C)\n",
        "C_matrix= np.array(C). reshape(3,3)\n",
        "A_matrix= np.array(A). reshape(3,3)\n",
        "print(C_matrix)\n",
        "print(A_matrix)"
      ],
      "metadata": {
        "colab": {
          "base_uri": "https://localhost:8080/"
        },
        "id": "jsdQFSY_QY1F",
        "outputId": "38530e59-6ceb-4270-944a-e3d2b02e88d6"
      },
      "execution_count": 73,
      "outputs": [
        {
          "output_type": "stream",
          "name": "stdout",
          "text": [
            "[[ 9  2  2]\n",
            " [ 2  3  3]\n",
            " [ 2 17  2]]\n",
            "[[ 8  1  1]\n",
            " [ 1  2  2]\n",
            " [ 1 16  1]]\n"
          ]
        }
      ]
    },
    {
      "cell_type": "code",
      "source": [
        "C_matrix @ A_matrix"
      ],
      "metadata": {
        "colab": {
          "base_uri": "https://localhost:8080/"
        },
        "id": "t0hRB8OBRwG-",
        "outputId": "7001f3f5-127d-496b-8e79-c58d5903ca7a"
      },
      "execution_count": 75,
      "outputs": [
        {
          "output_type": "execute_result",
          "data": {
            "text/plain": [
              "array([[76, 45, 15],\n",
              "       [22, 56, 11],\n",
              "       [35, 68, 38]])"
            ]
          },
          "metadata": {},
          "execution_count": 75
        }
      ]
    },
    {
      "cell_type": "code",
      "source": [
        "A_matrix @ C_matrix"
      ],
      "metadata": {
        "colab": {
          "base_uri": "https://localhost:8080/"
        },
        "id": "GmuxrakoR8Bd",
        "outputId": "61878e47-2ffe-41da-c271-7474367e4b99"
      },
      "execution_count": 76,
      "outputs": [
        {
          "output_type": "execute_result",
          "data": {
            "text/plain": [
              "array([[76, 36, 21],\n",
              "       [17, 42, 12],\n",
              "       [43, 67, 52]])"
            ]
          },
          "metadata": {},
          "execution_count": 76
        }
      ]
    }
  ]
}