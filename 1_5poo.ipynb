{
  "nbformat": 4,
  "nbformat_minor": 0,
  "metadata": {
    "colab": {
      "provenance": []
    },
    "kernelspec": {
      "name": "python3",
      "display_name": "Python 3"
    },
    "language_info": {
      "name": "python"
    }
  },
  "cells": [
    {
      "cell_type": "markdown",
      "source": [
        "$$ +JHS+ Fr.E \\swarrow $$\n",
        "#Clases herencias y polimorfismos:\n",
        "* Polimorfismos: colección de funciones.\n",
        "Clase--> Class--> funciones (inicializador)\n",
        "* Clase: grupos de funciones.\n",
        "* Herencias, clases hijas de class. (dentro de las herncias puden haber funciones.\n",
        "* Inicializador tanto en clase hija y madre.\n",
        "- Los inicializador en clase madre  `__init__`.\n",
        "-Los inicializadores en clases hijjas `__super__`.\n",
        "- Función para hcer clases `class`.\n",
        "-------\n",
        "##Example:\n",
        "*  `class Alvaro( self ,edad, bbf):`"
      ],
      "metadata": {
        "id": "d7DH1vEdzr42"
      }
    },
    {
      "cell_type": "code",
      "execution_count": 4,
      "metadata": {
        "colab": {
          "base_uri": "https://localhost:8080/",
          "height": 106
        },
        "id": "dYb8Qyk9zoIm",
        "outputId": "0db5bc38-38a9-4b06-afac-3b68866f46f0"
      },
      "outputs": [
        {
          "output_type": "error",
          "ename": "SyntaxError",
          "evalue": "invalid syntax. Perhaps you forgot a comma? (<ipython-input-4-ff06702450e6>, line 1)",
          "traceback": [
            "\u001b[0;36m  File \u001b[0;32m\"<ipython-input-4-ff06702450e6>\"\u001b[0;36m, line \u001b[0;32m1\u001b[0m\n\u001b[0;31m    class ALvaro( self, intedad, string bbf):\u001b[0m\n\u001b[0m                                 ^\u001b[0m\n\u001b[0;31mSyntaxError\u001b[0m\u001b[0;31m:\u001b[0m invalid syntax. Perhaps you forgot a comma?\n"
          ]
        }
      ],
      "source": [
        "class ALvaro( self, edad, bbf):\n",
        "  __init__(edad,bbf)\n",
        "  #Auto nombrar las variables\n",
        "  self.edad=edad\n",
        "  self.bbf=bbf\n",
        "  def saludar():\n",
        "    return \"Soy Álvaro\"\n",
        "\n",
        "class Jaume(Alvaro):\n",
        "  __super__\n",
        "  def saudar():\n",
        "    return \"soy el bbf de x\""
      ]
    },
    {
      "cell_type": "code",
      "source": [
        "#Clase sin nada\n",
        "class x():\n",
        "  pass"
      ],
      "metadata": {
        "id": "U8sYfM1lKF6-"
      },
      "execution_count": 8,
      "outputs": []
    },
    {
      "cell_type": "code",
      "source": [
        "# Clase muestra que se llamará caja.\n",
        "# (self, x,y) para que se auto nombren las funciones. SOLO EN EL INIT\n",
        "class Caja:\n",
        "  def __init__(self, pieza, tono, nombre):\n",
        "   #self debe de estar dentro de la def\n",
        "   self.tono=tono\n",
        "   self.nombre=nombre\n",
        "   self.pieza=pieza\n",
        "   #RECUERDA PONER\n",
        "  def caja (self):\n",
        "    print(f\"El regalo es la pieza {self.pieza} y está en {self.tono}\")\n",
        "  def autor(self):\n",
        "    print(f\"El autor es {self.nombre}\")\n",
        "\n",
        ""
      ],
      "metadata": {
        "id": "WHkg2o3XK7sU"
      },
      "execution_count": 49,
      "outputs": []
    },
    {
      "cell_type": "code",
      "source": [
        "guitallita=Caja(1, \"La_menor\", \"Brouwer\")"
      ],
      "metadata": {
        "id": "yk0UA8L3QlHn"
      },
      "execution_count": 51,
      "outputs": []
    },
    {
      "cell_type": "code",
      "source": [
        "#Atributo\n",
        "#¿Cuáles son los argumentos de la clase?\n",
        "guitallita.pieza, guitallita.tono, guitallita.nombre\n"
      ],
      "metadata": {
        "colab": {
          "base_uri": "https://localhost:8080/"
        },
        "id": "SfFZN8KFRiMl",
        "outputId": "f7167427-e05d-439b-cddf-83bf083849e1"
      },
      "execution_count": 53,
      "outputs": [
        {
          "output_type": "execute_result",
          "data": {
            "text/plain": [
              "(1, 'La_menor', 'Brouwer')"
            ]
          },
          "metadata": {},
          "execution_count": 53
        }
      ]
    },
    {
      "cell_type": "code",
      "source": [
        "guitallita.caja()"
      ],
      "metadata": {
        "colab": {
          "base_uri": "https://localhost:8080/"
        },
        "id": "Foj2vSM5R1Ls",
        "outputId": "1d9b544a-3e4d-4d71-a065-26fa2cbce4cc"
      },
      "execution_count": 54,
      "outputs": [
        {
          "output_type": "stream",
          "name": "stdout",
          "text": [
            "El regalo es la pieza 1 y está en La_menor\n"
          ]
        }
      ]
    },
    {
      "cell_type": "code",
      "source": [
        "#¿Quién es el autor de la pieza?\n",
        "guitallita.autor()"
      ],
      "metadata": {
        "colab": {
          "base_uri": "https://localhost:8080/"
        },
        "id": "OrShCLK8T49w",
        "outputId": "09014132-1d48-4aa9-c55b-1372b46ca6cf"
      },
      "execution_count": 56,
      "outputs": [
        {
          "output_type": "stream",
          "name": "stdout",
          "text": [
            "El autor es Brouwer\n"
          ]
        }
      ]
    }
  ]
}