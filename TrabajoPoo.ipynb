{
  "nbformat": 4,
  "nbformat_minor": 0,
  "metadata": {
    "colab": {
      "provenance": []
    },
    "kernelspec": {
      "name": "python3",
      "display_name": "Python 3"
    },
    "language_info": {
      "name": "python"
    }
  },
  "cells": [
    {
      "cell_type": "code",
      "execution_count": 1,
      "metadata": {
        "colab": {
          "base_uri": "https://localhost:8080/"
        },
        "id": "jALTLmFU4c_U",
        "outputId": "e31aeb64-f74d-454a-e7c2-42f5392a9e07"
      },
      "outputs": [
        {
          "output_type": "stream",
          "name": "stdout",
          "text": [
            "Hola mundo\n"
          ]
        }
      ],
      "source": [
        "print(\"Hola mundo\")"
      ]
    },
    {
      "cell_type": "code",
      "source": [
        "x='hola'\n",
        "x"
      ],
      "metadata": {
        "colab": {
          "base_uri": "https://localhost:8080/",
          "height": 35
        },
        "id": "mdipc2Oh4epc",
        "outputId": "9da80e26-be87-4850-e6e4-13458eedeae7"
      },
      "execution_count": 2,
      "outputs": [
        {
          "output_type": "execute_result",
          "data": {
            "text/plain": [
              "'hola'"
            ],
            "application/vnd.google.colaboratory.intrinsic+json": {
              "type": "string"
            }
          },
          "metadata": {},
          "execution_count": 2
        }
      ]
    },
    {
      "cell_type": "code",
      "source": [
        "x= int (input (\"ingrese un valor: \"))\n",
        "x=x*2\n",
        "print(f\"el el doble es {x}\")\n"
      ],
      "metadata": {
        "colab": {
          "base_uri": "https://localhost:8080/"
        },
        "id": "2VEz95mQ4rrp",
        "outputId": "129c8209-9593-415b-8f8b-f7260dc40f69"
      },
      "execution_count": 11,
      "outputs": [
        {
          "output_type": "stream",
          "name": "stdout",
          "text": [
            "ingrese un valor: 4\n",
            "el el doble es 8\n"
          ]
        }
      ]
    },
    {
      "cell_type": "code",
      "source": [
        "x= int (input (\"ingrese un valor: \"))\n",
        "y= int (input (\"ingrese otrr valor: \"))\n",
        "z=x+y\n",
        "print(f\"el valor de la suma es {z}\")"
      ],
      "metadata": {
        "colab": {
          "base_uri": "https://localhost:8080/"
        },
        "id": "Bfc49RJ957Ys",
        "outputId": "94ce96ba-bae5-4a1b-ff47-86f855302a59"
      },
      "execution_count": 13,
      "outputs": [
        {
          "output_type": "stream",
          "name": "stdout",
          "text": [
            "ingrese un valor: 1\n",
            "ingrese otrr valor: 8\n",
            "el valor de la suma es 9\n"
          ]
        }
      ]
    },
    {
      "cell_type": "code",
      "source": [
        "C=[1,2,3,4,5]\n",
        "print(f\"el primer valor es {C[0]} y {C[-1]}\")"
      ],
      "metadata": {
        "colab": {
          "base_uri": "https://localhost:8080/"
        },
        "id": "WPZbzxUj6Lyn",
        "outputId": "ce460dee-02b0-4d19-94d0-4c00613f6c7f"
      },
      "execution_count": 15,
      "outputs": [
        {
          "output_type": "stream",
          "name": "stdout",
          "text": [
            "el primer valor es 1 y 5\n"
          ]
        }
      ]
    },
    {
      "cell_type": "code",
      "source": [
        "x= int (input (\"ingrese un valor: \"))\n",
        "if x%2==0:\n",
        "  print(f\"el valor {x}  es par\")\n",
        "else:\n",
        "   print(f\"el valor {x} no es par\")"
      ],
      "metadata": {
        "colab": {
          "base_uri": "https://localhost:8080/"
        },
        "id": "Nd2Ha96C6dZP",
        "outputId": "46dc61f6-5d9d-4fd9-ba2d-16b84b10338e"
      },
      "execution_count": 16,
      "outputs": [
        {
          "output_type": "stream",
          "name": "stdout",
          "text": [
            "ingrese un valor: 4\n",
            "el valor 4  es par\n"
          ]
        }
      ]
    },
    {
      "cell_type": "code",
      "source": [
        "for x in range(11):\n",
        "  print(f\"{x}\")\n"
      ],
      "metadata": {
        "colab": {
          "base_uri": "https://localhost:8080/"
        },
        "id": "NUy7c9ZD60yY",
        "outputId": "6675d8fa-20a2-4610-f20b-c76c825626e6"
      },
      "execution_count": 18,
      "outputs": [
        {
          "output_type": "stream",
          "name": "stdout",
          "text": [
            "0\n",
            "1\n",
            "2\n",
            "3\n",
            "4\n",
            "5\n",
            "6\n",
            "7\n",
            "8\n",
            "9\n",
            "10\n"
          ]
        }
      ]
    },
    {
      "cell_type": "code",
      "source": [
        "x=100\n",
        "y=(100*(100+1))/2\n",
        "y"
      ],
      "metadata": {
        "colab": {
          "base_uri": "https://localhost:8080/"
        },
        "id": "bdc8IKjR7CTa",
        "outputId": "199a39a9-be53-43f0-9cfa-2abfebeebaeb"
      },
      "execution_count": 23,
      "outputs": [
        {
          "output_type": "execute_result",
          "data": {
            "text/plain": [
              "5050.0"
            ]
          },
          "metadata": {},
          "execution_count": 23
        }
      ]
    },
    {
      "cell_type": "code",
      "source": [
        "def x(s):\n",
        "  y=s**2\n",
        "  return y"
      ],
      "metadata": {
        "id": "-oWZCcoo717t"
      },
      "execution_count": 26,
      "outputs": []
    },
    {
      "cell_type": "code",
      "source": [
        "x(4)"
      ],
      "metadata": {
        "colab": {
          "base_uri": "https://localhost:8080/"
        },
        "id": "Oh24kfzr8Gw0",
        "outputId": "da91f192-d5a7-4dd5-d37a-d1e58eaed9ab"
      },
      "execution_count": 27,
      "outputs": [
        {
          "output_type": "execute_result",
          "data": {
            "text/plain": [
              "16"
            ]
          },
          "metadata": {},
          "execution_count": 27
        }
      ]
    },
    {
      "cell_type": "code",
      "source": [
        "vocales= \"aeiouAEIOU\"\n",
        "x='hola mundo'\n",
        "cont=0\n",
        "for char in x:\n",
        "  if char in vocales:\n",
        "    cont+=1\n",
        "print(f\"El número de vocales es: {cont}\")"
      ],
      "metadata": {
        "colab": {
          "base_uri": "https://localhost:8080/"
        },
        "id": "beCJ6tOP8ZP-",
        "outputId": "17ffbad4-58f5-456c-c69f-f8396e2d4714"
      },
      "execution_count": 134,
      "outputs": [
        {
          "output_type": "stream",
          "name": "stdout",
          "text": [
            "El número de vocales es: 4\n"
          ]
        }
      ]
    },
    {
      "cell_type": "code",
      "source": [
        "list(x)"
      ],
      "metadata": {
        "colab": {
          "base_uri": "https://localhost:8080/"
        },
        "id": "smQlmqhI96G0",
        "outputId": "c39959bf-9101-4d82-e4f3-bab77e4e3fa3"
      },
      "execution_count": 44,
      "outputs": [
        {
          "output_type": "execute_result",
          "data": {
            "text/plain": [
              "['h', 'o', 'l', 'a', ' ', 'm', 'u', 'n', 'd', 'o']"
            ]
          },
          "metadata": {},
          "execution_count": 44
        }
      ]
    },
    {
      "cell_type": "code",
      "source": [
        "print(f\"{x[1]} {x[3]} {x[6]} {x[9]}\")\n",
        "\n",
        ""
      ],
      "metadata": {
        "colab": {
          "base_uri": "https://localhost:8080/"
        },
        "id": "OeeIQaKO-vJ-",
        "outputId": "32d0c291-5b60-47ba-ac69-c75034ce3437"
      },
      "execution_count": 54,
      "outputs": [
        {
          "output_type": "stream",
          "name": "stdout",
          "text": [
            "o a u o\n"
          ]
        }
      ]
    },
    {
      "cell_type": "code",
      "source": [
        "C=[1,2,3,4,5,6,7,8,9,10]\n",
        "for i in range (len(C)):\n",
        "  if C[i]%2==0:\n",
        "    print (f\"{C[i]}\")"
      ],
      "metadata": {
        "colab": {
          "base_uri": "https://localhost:8080/"
        },
        "id": "-Yj7LFBXBGwW",
        "outputId": "c0358e69-d40a-46da-dcb1-62f96789722a"
      },
      "execution_count": 62,
      "outputs": [
        {
          "output_type": "stream",
          "name": "stdout",
          "text": [
            "2\n",
            "4\n",
            "6\n",
            "8\n",
            "10\n"
          ]
        }
      ]
    },
    {
      "cell_type": "code",
      "source": [
        "class Persona:\n",
        "  def __init__(self, nombre, edad):\n",
        "    self.nombre=nombre\n",
        "    self.edad=edad\n",
        "\n",
        "  def Nombre(self):\n",
        "    print(f\"mi nombre es {self.nombre}\")\n",
        "  def Edad(self):\n",
        "       print(f\"mi edad es {self.edad}\")"
      ],
      "metadata": {
        "id": "33TwFKqIB57K"
      },
      "execution_count": 63,
      "outputs": []
    },
    {
      "cell_type": "code",
      "source": [
        "Persona1=Persona('Kevin', 19)\n",
        "Persona1.Nombre()\n"
      ],
      "metadata": {
        "colab": {
          "base_uri": "https://localhost:8080/"
        },
        "id": "NWLnzN3fDgtt",
        "outputId": "4d0b9190-e923-4bc8-c92b-cea690f1fce2"
      },
      "execution_count": 69,
      "outputs": [
        {
          "output_type": "stream",
          "name": "stdout",
          "text": [
            "mi nombre es Kevin\n"
          ]
        }
      ]
    },
    {
      "cell_type": "code",
      "source": [
        "Persona1.Edad()"
      ],
      "metadata": {
        "colab": {
          "base_uri": "https://localhost:8080/"
        },
        "id": "XECe5EZvEBRF",
        "outputId": "9be78db8-2689-4edd-dfe7-34caeaf8312a"
      },
      "execution_count": 70,
      "outputs": [
        {
          "output_type": "stream",
          "name": "stdout",
          "text": [
            "mi edad es 19\n"
          ]
        }
      ]
    },
    {
      "cell_type": "code",
      "source": [
        "Persona2=Persona('Andres', 23)\n",
        "print(f\" el nombre es {Persona2.Nombre()} y tengo {Persona2.Edad()} años\")"
      ],
      "metadata": {
        "colab": {
          "base_uri": "https://localhost:8080/"
        },
        "id": "wvM3vIgYEEaM",
        "outputId": "902ab759-a9cd-4281-d37f-571dff3075ae"
      },
      "execution_count": 74,
      "outputs": [
        {
          "output_type": "stream",
          "name": "stdout",
          "text": [
            "mi nombre es Andres\n",
            "mi edad es 23\n",
            " el nombre es None y tengo None años\n"
          ]
        }
      ]
    },
    {
      "cell_type": "code",
      "source": [
        "C=[1,2,3,4,7,40,50,11]\n",
        "for i in range (7):\n",
        "  if C[i]<C[i+1]:\n",
        "   for z in range (7):\n",
        "      C[z]>C[z+1]\n",
        "      x=C[z]\n",
        "      C[z]=C[z+1]\n",
        "      C[z+1]=x\n",
        "  else:\n",
        "   print(f\"{x}\")\n"
      ],
      "metadata": {
        "colab": {
          "base_uri": "https://localhost:8080/"
        },
        "id": "WuC8fFGlEovO",
        "outputId": "cb0966e1-414b-4955-cb1e-4614111bd556"
      },
      "execution_count": 91,
      "outputs": [
        {
          "output_type": "stream",
          "name": "stdout",
          "text": [
            "3\n",
            "3\n"
          ]
        }
      ]
    },
    {
      "cell_type": "code",
      "source": [
        "A=[4,5,8,7,9]\n",
        "acum=0\n",
        "for i in range(len(A)):\n",
        "  acum=acum+A[i]\n"
      ],
      "metadata": {
        "id": "gtsy3XUoJQFo"
      },
      "execution_count": 123,
      "outputs": []
    },
    {
      "cell_type": "code",
      "source": [
        "y=acum/len(A)\n",
        "y"
      ],
      "metadata": {
        "colab": {
          "base_uri": "https://localhost:8080/"
        },
        "id": "T5hewv22NfXM",
        "outputId": "73993b2c-e067-4bad-fe1a-b7a120706309"
      },
      "execution_count": 127,
      "outputs": [
        {
          "output_type": "execute_result",
          "data": {
            "text/plain": [
              "6.6"
            ]
          },
          "metadata": {},
          "execution_count": 127
        }
      ]
    },
    {
      "cell_type": "code",
      "source": [
        "x='ana'\n",
        "list(x)"
      ],
      "metadata": {
        "id": "xG-zBKUgPCkz",
        "outputId": "c97519ea-aaec-44ce-db7b-b7ac5b94cf88",
        "colab": {
          "base_uri": "https://localhost:8080/"
        }
      },
      "execution_count": 137,
      "outputs": [
        {
          "output_type": "execute_result",
          "data": {
            "text/plain": [
              "['a', 'n', 'a']"
            ]
          },
          "metadata": {},
          "execution_count": 137
        }
      ]
    },
    {
      "cell_type": "code",
      "source": [
        "if (x[0]==x[-1]):\n",
        " print(\"La palabra es un palíndromo\")\n",
        "else:\n",
        "  print(\"No lo es\")\n",
        "\n"
      ],
      "metadata": {
        "id": "JHnxdfw0P8HH",
        "outputId": "96a362d4-8b44-4b4d-f233-fc2da093d847",
        "colab": {
          "base_uri": "https://localhost:8080/"
        }
      },
      "execution_count": 138,
      "outputs": [
        {
          "output_type": "stream",
          "name": "stdout",
          "text": [
            "La palabra es un palíndromo\n"
          ]
        }
      ]
    },
    {
      "cell_type": "code",
      "source": [
        "def a_b(x,y):\n",
        " if x>y:\n",
        "  print(f\"{x} es el mayor\")\n",
        " else:\n",
        "  print(f\"{y} es el mayor\")"
      ],
      "metadata": {
        "id": "LFsc5PKtVKK7"
      },
      "execution_count": 141,
      "outputs": []
    },
    {
      "cell_type": "code",
      "source": [
        "a_b(7,8)"
      ],
      "metadata": {
        "id": "T2cxtr8rVmVB",
        "outputId": "a0749270-0b15-4738-fe61-ca26faa9603e",
        "colab": {
          "base_uri": "https://localhost:8080/"
        }
      },
      "execution_count": 142,
      "outputs": [
        {
          "output_type": "stream",
          "name": "stdout",
          "text": [
            "8 es el mayor\n"
          ]
        }
      ]
    },
    {
      "cell_type": "code",
      "source": [
        "x= int(input(\"ingrese el valor de la tabla: \"))\n",
        "for i in range(11):\n",
        " y=x*i\n",
        " print (f\"{y}\")\n",
        ""
      ],
      "metadata": {
        "id": "KXg4VJarVuRx",
        "outputId": "c5f455e8-4e5f-414d-938e-aad2a05ea3e1",
        "colab": {
          "base_uri": "https://localhost:8080/"
        }
      },
      "execution_count": 149,
      "outputs": [
        {
          "output_type": "stream",
          "name": "stdout",
          "text": [
            "ingrese el valor de la tabla: 5\n",
            "0\n",
            "5\n",
            "10\n",
            "15\n",
            "20\n",
            "25\n",
            "30\n",
            "35\n",
            "40\n",
            "45\n",
            "50\n"
          ]
        }
      ]
    },
    {
      "cell_type": "code",
      "source": [
        "def primos(x):\n",
        "  for i in range(x):\n",
        "   if i%2!=0 and i%3!=0 and i/1==i and i/i==1:\n",
        "    print(f\"{i}\")\n",
        "\n",
        "\n"
      ],
      "metadata": {
        "id": "xX_p4MGKW0BW"
      },
      "execution_count": 175,
      "outputs": []
    },
    {
      "cell_type": "code",
      "source": [
        "primos(15)"
      ],
      "metadata": {
        "id": "davaqTAwY7TN",
        "outputId": "699dd759-c487-49b6-a700-97c4fb9b84ce",
        "colab": {
          "base_uri": "https://localhost:8080/"
        }
      },
      "execution_count": 177,
      "outputs": [
        {
          "output_type": "stream",
          "name": "stdout",
          "text": [
            "1\n",
            "5\n",
            "7\n",
            "11\n",
            "13\n"
          ]
        }
      ]
    }
  ]
}