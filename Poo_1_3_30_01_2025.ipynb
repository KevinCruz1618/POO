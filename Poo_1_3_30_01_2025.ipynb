{
  "nbformat": 4,
  "nbformat_minor": 0,
  "metadata": {
    "colab": {
      "provenance": []
    },
    "kernelspec": {
      "name": "python3",
      "display_name": "Python 3"
    },
    "language_info": {
      "name": "python"
    }
  },
  "cells": [
    {
      "cell_type": "code",
      "execution_count": null,
      "metadata": {
        "id": "QEO23w_Mrbbl"
      },
      "outputs": [],
      "source": []
    },
    {
      "cell_type": "markdown",
      "source": [
        "# Listas e ingresos a listas\n",
        "- Range: `Range (a,b)` donde $a\\geq 0$  ,  $b\\geq0$ y también $a\\lt b $\n",
        "$$ \\varphi = \\frac {1+\\sqrt 5}{2}$$"
      ],
      "metadata": {
        "id": "3KBWnNF3sE1m"
      }
    },
    {
      "cell_type": "code",
      "source": [
        "range(10) #esto no es un objeto, generador de índices en python.\n",
        "type (range(10))"
      ],
      "metadata": {
        "colab": {
          "base_uri": "https://localhost:8080/"
        },
        "id": "IwUZtXCgx8QQ",
        "outputId": "3a6aaf89-ce06-45ca-bdf9-e5d3c444817b"
      },
      "execution_count": 3,
      "outputs": [
        {
          "output_type": "execute_result",
          "data": {
            "text/plain": [
              "range"
            ]
          },
          "metadata": {},
          "execution_count": 3
        }
      ]
    },
    {
      "cell_type": "code",
      "source": [
        "for i in range(10):\n",
        "  print (i)"
      ],
      "metadata": {
        "colab": {
          "base_uri": "https://localhost:8080/"
        },
        "collapsed": true,
        "id": "kdaFkJPtytFA",
        "outputId": "f147e652-3782-492d-d751-1a58a3e4a4cc"
      },
      "execution_count": 18,
      "outputs": [
        {
          "output_type": "stream",
          "name": "stdout",
          "text": [
            "0\n",
            "1\n",
            "2\n",
            "3\n",
            "4\n",
            "5\n",
            "6\n",
            "7\n",
            "8\n",
            "9\n"
          ]
        }
      ]
    },
    {
      "cell_type": "markdown",
      "source": [
        "###Lista= list(pares)"
      ],
      "metadata": {
        "id": "GC-dHERw0rc4"
      }
    },
    {
      "cell_type": "code",
      "source": [
        "x=7\n",
        "#convierte números en string\n",
        "str(x)\n",
        "#te mustra todos lo decimales\n",
        "float(x)"
      ],
      "metadata": {
        "colab": {
          "base_uri": "https://localhost:8080/"
        },
        "id": "Ary3WnGS0fl4",
        "outputId": "0652e22c-90ea-4baa-e840-c5d8370b9528"
      },
      "execution_count": 6,
      "outputs": [
        {
          "output_type": "execute_result",
          "data": {
            "text/plain": [
              "7.0"
            ]
          },
          "metadata": {},
          "execution_count": 6
        }
      ]
    },
    {
      "cell_type": "code",
      "source": [
        "y=\"7\"\n",
        "int(y)\n",
        "hola=\"Hola Mundo\"\n",
        "int (hola)\n",
        "#Solo funciona con string númericos"
      ],
      "metadata": {
        "colab": {
          "base_uri": "https://localhost:8080/",
          "height": 176
        },
        "collapsed": true,
        "id": "NY8J4FUV1Roy",
        "outputId": "0917fa9c-3c1e-4144-9d45-d8c142f6f5ed"
      },
      "execution_count": 10,
      "outputs": [
        {
          "output_type": "error",
          "ename": "ValueError",
          "evalue": "invalid literal for int() with base 10: 'Hola Mundo'",
          "traceback": [
            "\u001b[0;31m---------------------------------------------------------------------------\u001b[0m",
            "\u001b[0;31mValueError\u001b[0m                                Traceback (most recent call last)",
            "\u001b[0;32m<ipython-input-10-5e7775afc4bb>\u001b[0m in \u001b[0;36m<cell line: 0>\u001b[0;34m()\u001b[0m\n\u001b[1;32m      2\u001b[0m \u001b[0mint\u001b[0m\u001b[0;34m(\u001b[0m\u001b[0my\u001b[0m\u001b[0;34m)\u001b[0m\u001b[0;34m\u001b[0m\u001b[0;34m\u001b[0m\u001b[0m\n\u001b[1;32m      3\u001b[0m \u001b[0mhola\u001b[0m\u001b[0;34m=\u001b[0m\u001b[0;34m\"Hola Mundo\"\u001b[0m\u001b[0;34m\u001b[0m\u001b[0;34m\u001b[0m\u001b[0m\n\u001b[0;32m----> 4\u001b[0;31m \u001b[0mint\u001b[0m \u001b[0;34m(\u001b[0m\u001b[0mhola\u001b[0m\u001b[0;34m)\u001b[0m\u001b[0;34m\u001b[0m\u001b[0;34m\u001b[0m\u001b[0m\n\u001b[0m",
            "\u001b[0;31mValueError\u001b[0m: invalid literal for int() with base 10: 'Hola Mundo'"
          ]
        }
      ]
    },
    {
      "cell_type": "markdown",
      "source": [
        "#Listas y arreglos"
      ],
      "metadata": {
        "id": "I1bXrPmj-k-A"
      }
    },
    {
      "cell_type": "code",
      "source": [
        "# Lista con [], i para escribir y el 'for' para escribir lo que esta en range\n",
        "Indices=[i for i in range(21)]\n",
        "print (f\"Etiquetas : {Indices}\")"
      ],
      "metadata": {
        "colab": {
          "base_uri": "https://localhost:8080/"
        },
        "id": "FIjFbnC8-t7l",
        "outputId": "2170feab-62e2-4377-dc76-b0bd48ab5f65"
      },
      "execution_count": 30,
      "outputs": [
        {
          "output_type": "stream",
          "name": "stdout",
          "text": [
            "Etiquetas : [0, 1, 2, 3, 4, 5, 6, 7, 8, 9, 10, 11, 12, 13, 14, 15, 16, 17, 18, 19, 20]\n"
          ]
        }
      ]
    },
    {
      "cell_type": "code",
      "source": [
        "Multiplos3= [i for i in range(21) if i%3==0]\n",
        "Multiplos3\n",
        "print(f\"Multiplos de 3: {Multiplos3}\")\n",
        "# f es el formato que llama a la variable."
      ],
      "metadata": {
        "colab": {
          "base_uri": "https://localhost:8080/"
        },
        "id": "6_kXid31A-Df",
        "outputId": "cfdb1865-4c87-45e0-da31-724cba92ab64"
      },
      "execution_count": 32,
      "outputs": [
        {
          "output_type": "stream",
          "name": "stdout",
          "text": [
            "Multiplos de 3: [0, 3, 6, 9, 12, 15, 18]\n"
          ]
        }
      ]
    },
    {
      "cell_type": "markdown",
      "source": [
        "###Ingresos a listas"
      ],
      "metadata": {
        "id": "tox98Gi9Et-w"
      }
    },
    {
      "cell_type": "code",
      "source": [
        "Felipe = []\n",
        "\n",
        "Felipe.append(18)"
      ],
      "metadata": {
        "id": "emZsGUnyFN7m"
      },
      "execution_count": 61,
      "outputs": []
    },
    {
      "cell_type": "code",
      "source": [
        "Felipe.insert(1,\"guitarra\")"
      ],
      "metadata": {
        "id": "VrYGy3xBGGXu"
      },
      "execution_count": 62,
      "outputs": []
    },
    {
      "cell_type": "code",
      "source": [
        "Felipe.insert(3, \"Perro\")"
      ],
      "metadata": {
        "id": "81OvzPaxHnyZ"
      },
      "execution_count": 63,
      "outputs": []
    },
    {
      "cell_type": "code",
      "source": [
        "Felipe.insert (2, 1.56)\n",
        "Felipe"
      ],
      "metadata": {
        "colab": {
          "base_uri": "https://localhost:8080/"
        },
        "id": "lZHY3H9_G65k",
        "outputId": "fb76daed-732c-458b-8f65-cd46a5fdcccc"
      },
      "execution_count": 64,
      "outputs": [
        {
          "output_type": "execute_result",
          "data": {
            "text/plain": [
              "[18, 'guitarra', 1.56, 'Perro']"
            ]
          },
          "metadata": {},
          "execution_count": 64
        }
      ]
    },
    {
      "cell_type": "code",
      "source": [
        "#Con eso Felipe[2] muestra lo que tiene en ese lugar (0,1,[2],3)\n",
        "Felipe[2]"
      ],
      "metadata": {
        "id": "IzsiweQyIFNF",
        "outputId": "eeeb4191-68c6-4edf-93d9-f6f7542327d8",
        "colab": {
          "base_uri": "https://localhost:8080/"
        }
      },
      "execution_count": 65,
      "outputs": [
        {
          "output_type": "execute_result",
          "data": {
            "text/plain": [
              "1.56"
            ]
          },
          "metadata": {},
          "execution_count": 65
        }
      ]
    },
    {
      "cell_type": "code",
      "source": [
        "Felipe.pop(2) #Pop borra lo que indicaste en la posición\n",
        "Felipe"
      ],
      "metadata": {
        "id": "J_fONAjgJDDa",
        "outputId": "144cd3a1-7b50-48aa-9677-bf054915757b",
        "colab": {
          "base_uri": "https://localhost:8080/"
        }
      },
      "execution_count": 66,
      "outputs": [
        {
          "output_type": "execute_result",
          "data": {
            "text/plain": [
              "[18, 'guitarra', 'Perro']"
            ]
          },
          "metadata": {},
          "execution_count": 66
        }
      ]
    },
    {
      "cell_type": "code",
      "source": [
        "Felipe.insert(3, \"gato\")\n",
        "Felipe\n"
      ],
      "metadata": {
        "id": "0SBuQviPJ2Px",
        "outputId": "a67bddd3-013c-4f6b-9f2f-99eaba43d55d",
        "colab": {
          "base_uri": "https://localhost:8080/"
        }
      },
      "execution_count": 70,
      "outputs": [
        {
          "output_type": "execute_result",
          "data": {
            "text/plain": [
              "[18, 'guitarra', 'Perro', 'gato']"
            ]
          },
          "metadata": {},
          "execution_count": 70
        }
      ]
    },
    {
      "cell_type": "code",
      "source": [
        "Felipe[0:2]\n",
        "#Mostrar los valores de ([0],[1],2,3)"
      ],
      "metadata": {
        "id": "FfDALHRYMRis",
        "outputId": "d3ad186b-8fb2-4b6f-d8ae-0c1a018eca05",
        "colab": {
          "base_uri": "https://localhost:8080/"
        }
      },
      "execution_count": 73,
      "outputs": [
        {
          "output_type": "execute_result",
          "data": {
            "text/plain": [
              "[18, 'guitarra']"
            ]
          },
          "metadata": {},
          "execution_count": 73
        }
      ]
    },
    {
      "cell_type": "code",
      "source": [
        "Felipe[0::3]# Va mostrar ([0],1,[2],3)"
      ],
      "metadata": {
        "id": "gBwN27CuNe_I",
        "outputId": "1fd9d980-696a-4b73-8c47-1ea82a3c85fb",
        "colab": {
          "base_uri": "https://localhost:8080/"
        }
      },
      "execution_count": 74,
      "outputs": [
        {
          "output_type": "execute_result",
          "data": {
            "text/plain": [
              "[18, 'gato']"
            ]
          },
          "metadata": {},
          "execution_count": 74
        }
      ]
    },
    {
      "cell_type": "code",
      "source": [
        "Indices[0::2]"
      ],
      "metadata": {
        "id": "DO4wMN8XNwjP",
        "outputId": "9cd95e1e-dd2e-4d77-9665-b7595e495931",
        "colab": {
          "base_uri": "https://localhost:8080/"
        }
      },
      "execution_count": 76,
      "outputs": [
        {
          "output_type": "execute_result",
          "data": {
            "text/plain": [
              "[0, 2, 4, 6, 8, 10, 12, 14, 16, 18, 20]"
            ]
          },
          "metadata": {},
          "execution_count": 76
        }
      ]
    }
  ]
}