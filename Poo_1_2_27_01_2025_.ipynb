{
  "nbformat": 4,
  "nbformat_minor": 0,
  "metadata": {
    "colab": {
      "provenance": []
    },
    "kernelspec": {
      "name": "python3",
      "display_name": "Python 3"
    },
    "language_info": {
      "name": "python"
    }
  },
  "cells": [
    {
      "cell_type": "markdown",
      "source": [
        "#Conjuntos y listas\n",
        "- Conjuntos finitos:\n",
        "$$\\{o_1, o_2,\\dots, o_n \\}$$\n",
        "- Listas finitas:\n",
        "$$[l_1, l_2,\\dots, l_n ]$$\n",
        "\n",
        "  En python existe la función que llama `range(a,b)`, donde $a,b\\geq 0$"
      ],
      "metadata": {
        "id": "S0-rEUMlcgaG"
      }
    },
    {
      "cell_type": "code",
      "execution_count": 1,
      "metadata": {
        "colab": {
          "base_uri": "https://localhost:8080/"
        },
        "id": "cNF3qrDJbne2",
        "outputId": "48e82a42-15fa-4343-a8c3-f8af5412b1cf"
      },
      "outputs": [
        {
          "output_type": "execute_result",
          "data": {
            "text/plain": [
              "range(0, 10)"
            ]
          },
          "metadata": {},
          "execution_count": 1
        }
      ],
      "source": [
        "range(0,10)"
      ]
    },
    {
      "cell_type": "markdown",
      "source": [
        "------------\n",
        "¿Cómo puevo ver los elementos de este generador de índices?\n"
      ],
      "metadata": {
        "id": "HXJeBzNtfiXU"
      }
    },
    {
      "cell_type": "code",
      "source": [
        "#Identación\n",
        "for i in range(10):\n",
        "  print (i)"
      ],
      "metadata": {
        "colab": {
          "base_uri": "https://localhost:8080/"
        },
        "id": "pZzdA_qYgD6c",
        "outputId": "a0e9bd68-ce15-4cba-aefb-2a1f2cbdf122"
      },
      "execution_count": 5,
      "outputs": [
        {
          "output_type": "stream",
          "name": "stdout",
          "text": [
            "0\n",
            "1\n",
            "2\n",
            "3\n",
            "4\n",
            "5\n",
            "6\n",
            "7\n",
            "8\n",
            "9\n"
          ]
        }
      ]
    },
    {
      "cell_type": "markdown",
      "source": [],
      "metadata": {
        "id": "b9-k4bS9iQ2j"
      }
    },
    {
      "cell_type": "code",
      "source": [
        "#Vamos a definir dos conjuntos.\n",
        "Pares = {i for i in range(0,21) if i%2==0}\n",
        "print (f\"Pares: {Pares}\")\n",
        "impares = {i for i in range(0,21) if i%2!=0}\n",
        "print(f\"impares: {impares}\")"
      ],
      "metadata": {
        "colab": {
          "base_uri": "https://localhost:8080/"
        },
        "id": "pzm5sMPFhFi6",
        "outputId": "eb4b0200-a1d4-451c-e934-cf4fe9ce9c23"
      },
      "execution_count": 10,
      "outputs": [
        {
          "output_type": "stream",
          "name": "stdout",
          "text": [
            "Pares: {0, 2, 4, 6, 8, 10, 12, 14, 16, 18, 20}\n",
            "impares: {1, 3, 5, 7, 9, 11, 13, 15, 17, 19}\n"
          ]
        }
      ]
    },
    {
      "cell_type": "code",
      "source": [
        "C={17,7,27,77,19, 56,98,12,10,3}\n",
        "C, type(C)"
      ],
      "metadata": {
        "colab": {
          "base_uri": "https://localhost:8080/"
        },
        "id": "aNSEEXbdi9tT",
        "outputId": "454924e4-c964-4cda-adb9-edb8d8de7b84"
      },
      "execution_count": 11,
      "outputs": [
        {
          "output_type": "execute_result",
          "data": {
            "text/plain": [
              "({3, 7, 10, 12, 17, 19, 27, 56, 77, 98}, set)"
            ]
          },
          "metadata": {},
          "execution_count": 11
        }
      ]
    },
    {
      "cell_type": "markdown",
      "source": [
        "**Los objetos en Python tienen atributos**\n"
      ],
      "metadata": {
        "id": "aQL_0pdxkBlt"
      }
    },
    {
      "cell_type": "code",
      "source": [
        "#Atriubtos de un conjutno\n",
        "Pares.intersection(impares) #Conjunto vacío"
      ],
      "metadata": {
        "colab": {
          "base_uri": "https://localhost:8080/"
        },
        "id": "KkIVsdRBkLef",
        "outputId": "c545ede3-ca48-48ca-af79-58a2904170d5"
      },
      "execution_count": 12,
      "outputs": [
        {
          "output_type": "execute_result",
          "data": {
            "text/plain": [
              "set()"
            ]
          },
          "metadata": {},
          "execution_count": 12
        }
      ]
    },
    {
      "cell_type": "code",
      "source": [
        "Pares.union(impares)"
      ],
      "metadata": {
        "colab": {
          "base_uri": "https://localhost:8080/"
        },
        "id": "yAcIOqg5kkED",
        "outputId": "1841bb27-9f06-41ba-fafb-18bc06ebb447"
      },
      "execution_count": 13,
      "outputs": [
        {
          "output_type": "execute_result",
          "data": {
            "text/plain": [
              "{0, 1, 2, 3, 4, 5, 6, 7, 8, 9, 10, 11, 12, 13, 14, 15, 16, 17, 18, 19, 20}"
            ]
          },
          "metadata": {},
          "execution_count": 13
        }
      ]
    },
    {
      "cell_type": "code",
      "source": [
        "impares.difference(C)"
      ],
      "metadata": {
        "colab": {
          "base_uri": "https://localhost:8080/"
        },
        "id": "LTOTUxnwkweB",
        "outputId": "062be4f7-4ab1-4b18-d210-bb252a3d9328"
      },
      "execution_count": 15,
      "outputs": [
        {
          "output_type": "execute_result",
          "data": {
            "text/plain": [
              "{1, 5, 9, 11, 13, 15}"
            ]
          },
          "metadata": {},
          "execution_count": 15
        }
      ]
    },
    {
      "cell_type": "code",
      "source": [
        "Pares.difference(C)"
      ],
      "metadata": {
        "colab": {
          "base_uri": "https://localhost:8080/"
        },
        "id": "JkQzQRB_lILu",
        "outputId": "93818d10-b07c-4d87-c98e-e2c1fcdd51fa"
      },
      "execution_count": 16,
      "outputs": [
        {
          "output_type": "execute_result",
          "data": {
            "text/plain": [
              "{0, 2, 4, 6, 8, 14, 16, 18, 20}"
            ]
          },
          "metadata": {},
          "execution_count": 16
        }
      ]
    },
    {
      "cell_type": "markdown",
      "source": [
        "-----\n",
        "##Listas\n",
        "*texto en cursiva*"
      ],
      "metadata": {
        "id": "NkM6V4lgltgR"
      }
    },
    {
      "cell_type": "code",
      "source": [
        "Lista_pares = list(Pares)\n",
        "Lista_pares"
      ],
      "metadata": {
        "colab": {
          "base_uri": "https://localhost:8080/"
        },
        "id": "KbYvqk8Ol18g",
        "outputId": "590ca59c-d09c-45c3-f771-820195a6b9ef"
      },
      "execution_count": 17,
      "outputs": [
        {
          "output_type": "execute_result",
          "data": {
            "text/plain": [
              "[0, 2, 4, 6, 8, 10, 12, 14, 16, 18, 20]"
            ]
          },
          "metadata": {},
          "execution_count": 17
        }
      ]
    }
  ]
}